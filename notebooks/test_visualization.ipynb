{
 "cells": [
  {
   "cell_type": "code",
   "execution_count": 1,
   "metadata": {
    "pycharm": {
     "is_executing": false
    }
   },
   "outputs": [
    {
     "data": {
      "application/vnd.jupyter.widget-view+json": {
       "model_id": "8e251995eb3448838608be18e1e0c2d3",
       "version_major": 2,
       "version_minor": 0
      },
      "text/plain": [
       "Accordion(children=(HTML(value='', layout=Layout(height='16em', overflow_y='auto', width='100%')),), selected_…"
      ]
     },
     "metadata": {},
     "output_type": "display_data"
    },
    {
     "data": {
      "application/vnd.jupyter.widget-view+json": {
       "model_id": "ee54555b998140bb92c80c0d6345b123",
       "version_major": 2,
       "version_minor": 0
      },
      "text/plain": [
       "ThreeJSPlot(children=(HBox(children=(Renderer(children=(Renderer(camera=PerspectiveCamera(position=(0.0, 0.0, …"
      ]
     },
     "metadata": {},
     "output_type": "display_data"
    }
   ],
   "source": [
    "from pymor.basic import *\n",
    "set_defaults({'pymor.discretizers.builtin.gui.jupyter.get_visualizer.backend': 'py3js'})\n",
    "p = burgers_problem_2d()\n",
    "d, _ = discretize_instationary_fv(p, num_flux='simplified_engquist_osher', diameter=1/50, nt=100, num_values=10, grid_type=RectGrid)\n",
    "U = d.solve(2.)\n",
    "plot = d.visualize(U)"
   ]
  },
  {
   "cell_type": "code",
   "execution_count": 3,
   "metadata": {},
   "outputs": [
    {
     "data": {
      "application/vnd.jupyter.widget-view+json": {
       "model_id": "a984ae8c33824b7292777b033ef19eeb",
       "version_major": 2,
       "version_minor": 0
      },
      "text/plain": [
       "Preview(child=AnimationClip(duration=10.0, tracks=(KeyframeTrack(name='scene/mesh_0.visible', times=array([0, …"
      ]
     },
     "metadata": {},
     "output_type": "display_data"
    }
   ],
   "source": [
    "r0 =plot.renderer[0]\n",
    "r0.tracks\n",
    "r0.clip\n",
    "#r0.action\n"
   ]
  }
 ],
 "metadata": {
  "kernelspec": {
   "display_name": "Python 3",
   "language": "python",
   "name": "python3"
  },
  "language_info": {
   "codemirror_mode": {
    "name": "ipython",
    "version": 3
   },
   "file_extension": ".py",
   "mimetype": "text/x-python",
   "name": "python",
   "nbconvert_exporter": "python",
   "pygments_lexer": "ipython3",
   "version": "3.7.6"
  }
 },
 "nbformat": 4,
 "nbformat_minor": 2
}
